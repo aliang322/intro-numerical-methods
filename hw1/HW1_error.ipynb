{
 "cells": [
  {
   "cell_type": "code",
   "execution_count": 1,
   "metadata": {
    "deletable": false,
    "editable": false,
    "nbgrader": {
     "cell_type": "code",
     "checksum": "3c0e6f80c9a8d85d80baddc8df3890a0",
     "grade": false,
     "grade_id": "cell-7531378247537850",
     "locked": true,
     "schema_version": 3,
     "solution": false
    }
   },
   "outputs": [],
   "source": [
    "from __future__ import print_function\n",
    "%matplotlib inline\n",
    "import numpy\n",
    "import matplotlib.pyplot as plt\n",
    "\n",
    "# import the factorial function from scipy\n",
    "from scipy.special import factorial"
   ]
  },
  {
   "cell_type": "code",
   "execution_count": 2,
   "metadata": {},
   "outputs": [],
   "source": [
    "# Custom imports\n",
    "import math"
   ]
  },
  {
   "cell_type": "markdown",
   "metadata": {
    "deletable": false,
    "editable": false,
    "nbgrader": {
     "cell_type": "markdown",
     "checksum": "57fe3d1a770d32fc71d10c52d47d5765",
     "grade": false,
     "grade_id": "cell-1055125360070174",
     "locked": true,
     "schema_version": 3,
     "solution": false
    }
   },
   "source": [
    "# HW 1:  Forms of Error\n",
    "\n"
   ]
  },
  {
   "cell_type": "markdown",
   "metadata": {
    "deletable": false,
    "editable": false,
    "nbgrader": {
     "cell_type": "markdown",
     "checksum": "763bdcd61a173c57e8d82dcd9519ee2c",
     "grade": false,
     "grade_id": "cell-9681214437904696",
     "locked": true,
     "schema_version": 3,
     "solution": false
    }
   },
   "source": [
    "## Question 1:  definition of errors\n",
    "\n",
    "**(a)**  [4 pts] Write a short python program to calculate and return, the absolute error, relative error and degree of decimal precision (as defined in class) given an object `f` and its approximation `F`.  Note, both `f` and `F` can be numpy arrays."
   ]
  },
  {
   "cell_type": "code",
   "execution_count": 3,
   "metadata": {
    "deletable": false,
    "nbgrader": {
     "cell_type": "code",
     "checksum": "7c9bcb87e713e8ee4fb90ec822ed4d9f",
     "grade": false,
     "grade_id": "cell-a6ede65cf8ed685f",
     "locked": false,
     "schema_version": 3,
     "solution": true,
     "task": false
    }
   },
   "outputs": [],
   "source": [
    "def errors(f,F):\n",
    "    \"\"\" calculate various measures of error of an object f and its approximation F\n",
    "    \n",
    "    Parameters\n",
    "    ----------\n",
    "    f:  numpy.array (or float)\n",
    "        array of true values\n",
    "        \n",
    "    F: numpy.array\n",
    "        array of approximate values\n",
    "        \n",
    "    Returns\n",
    "    -------\n",
    "    \n",
    "    e: array of absolute errors\n",
    "    r: array of relative errors\n",
    "    p: integer array of precisions\n",
    "    \"\"\"\n",
    "\n",
    "    # YOUR CODE HERE\n",
    "    e = abs(f-F)\n",
    "    r = e/abs(f)\n",
    "    p = []\n",
    "    if numpy.isscalar(r):\n",
    "        if r != 0 and r!= float('inf'): p = int(-numpy.log10(r/5.))\n",
    "        elif r == 0: p = float('inf')\n",
    "        elif r == float('inf'): p = float('inf')\n",
    "    else:\n",
    "        for val in r:\n",
    "            if val == 0: p.append(float('inf'))\n",
    "            else: p.append(int(-numpy.log10(val/5.)))#numpy.ceil(int(numpy.log10(5 / val))))\n",
    "                \n",
    "    #raise NotImplementedError()\n",
    "\n",
    "    return e, r, p\n"
   ]
  },
  {
   "cell_type": "code",
   "execution_count": 4,
   "metadata": {
    "deletable": false,
    "editable": false,
    "nbgrader": {
     "cell_type": "code",
     "checksum": "f4295c880e6563c035f2e1176010b834",
     "grade": true,
     "grade_id": "cell-da2659b413c73ca7",
     "locked": true,
     "points": 4,
     "schema_version": 3,
     "solution": false,
     "task": false
    }
   },
   "outputs": [
    {
     "name": "stdout",
     "output_type": "stream",
     "text": [
      "passed scalar test\n",
      "passed array test\n"
     ]
    }
   ],
   "source": [
    "# Testing Cell (do not copy)\n",
    "\n",
    "# Test Simple Scalars\n",
    "e,r,p = errors(numpy.exp(1),2.72)\n",
    "answer = [0.0017181715409551046, 0.0006320799863232398, 3]\n",
    "numpy.testing.assert_allclose([e,r,p], answer)\n",
    "print('passed scalar test')\n",
    "\n",
    "# Test with array input\n",
    "x = [1., 2., 3.]\n",
    "f = numpy.exp(x)\n",
    "F = [ 2.718,  7.389,  20.085]\n",
    "e,r,p = errors(f,F)\n",
    "numpy.testing.assert_allclose(e,[2.81828459e-04, 5.60989307e-05, 5.36923188e-04])\n",
    "numpy.testing.assert_allclose(r,[1.03678896e-04, 7.59216467e-06, 2.67318315e-05])\n",
    "numpy.testing.assert_allclose(p,[4, 5, 5])\n",
    "print('passed array test')"
   ]
  },
  {
   "cell_type": "markdown",
   "metadata": {
    "deletable": false,
    "editable": false,
    "nbgrader": {
     "cell_type": "markdown",
     "checksum": "39ee29a6b36ec47d40b72b71b941b0f2",
     "grade": false,
     "grade_id": "cell-bef4e3baf992ed93",
     "locked": true,
     "schema_version": 3,
     "solution": false,
     "task": false
    }
   },
   "source": [
    "**(b)** [2 pts]  Use your routine to compare the absolute error, relative error and degree of precision for these two rational approximations of $\\pi$\n",
    "\n",
    "* $f = \\pi$ and $F = 22 / 7$\n",
    "* $f = \\pi$ and $F = 355 / 113$\n",
    "\n",
    "Which is more accurate?"
   ]
  },
  {
   "cell_type": "code",
   "execution_count": 5,
   "metadata": {},
   "outputs": [
    {
     "data": {
      "text/plain": [
       "((0.0012644892673496777, 0.0004024994347707008, 4),\n",
       " (2.667641894049666e-07, 8.49136787674061e-08, 7))"
      ]
     },
     "execution_count": 5,
     "metadata": {},
     "output_type": "execute_result"
    }
   ],
   "source": [
    "# you can put some working code here to generate your answers, but put your answers in the cell below\n",
    "errors(f=numpy.pi, F=22/7), errors(f=numpy.pi, F=355/113)"
   ]
  },
  {
   "cell_type": "markdown",
   "metadata": {
    "deletable": false,
    "nbgrader": {
     "cell_type": "markdown",
     "checksum": "21b09b84adbced5a47c2142e0d7a29cd",
     "grade": true,
     "grade_id": "cell-4300360216304258",
     "locked": false,
     "points": 2,
     "schema_version": 3,
     "solution": true
    }
   },
   "source": [
    "YOUR ANSWER HERE\n",
    "\n",
    "Answer:\n",
    "\n",
    "𝐹=355/113 is a more accurate approximation of $\\pi$, as the absolute and relative error of the estimation 𝐹=355/113 to $\\pi$ is less than those for 𝐹=22/7 as an estimation of $\\pi$, and decimal precision is higher for F=355/113."
   ]
  },
  {
   "cell_type": "markdown",
   "metadata": {
    "deletable": false,
    "editable": false,
    "nbgrader": {
     "cell_type": "markdown",
     "checksum": "b5a1a21715793f4a9cd1d22da3c6fbd5",
     "grade": false,
     "grade_id": "cell-300ca517618db367",
     "locked": true,
     "schema_version": 3,
     "solution": false,
     "task": false
    }
   },
   "source": [
    "**(c)** [6 pts] Write a python routine to find the most accurate $d$ digit rational approximation to $\\pi$. i.e. find\n",
    "two $d$ digit positive integers $m,n$ such that \n",
    "\n",
    "$$ F = \\frac{m}{n} \\sim \\pi$$\n",
    "\n",
    "(hint:  $355/113$ is the best 3-digit rational approximation)"
   ]
  },
  {
   "cell_type": "code",
   "execution_count": 6,
   "metadata": {
    "deletable": false,
    "nbgrader": {
     "cell_type": "code",
     "checksum": "2fad6f779f0e38180756be9962ecfdda",
     "grade": false,
     "grade_id": "cell-4b8290252c936eec",
     "locked": false,
     "schema_version": 3,
     "solution": true,
     "task": false
    }
   },
   "outputs": [],
   "source": [
    "def rational_pi(d):\n",
    "    ''' Find the best rational approximation to pi ~ m/n where m and n are both d-digit positive integers\n",
    "    \n",
    "    Parameters\n",
    "    ----------\n",
    "    \n",
    "    d: int\n",
    "        number of digits in both m and n\n",
    "    \n",
    "    Returns\n",
    "    -------\n",
    "    m,n: int\n",
    "        numerator and denominator of best d digit rational approximation to pi ~ m/n\n",
    "        \n",
    "    '''\n",
    "    # YOUR CODE HERE\n",
    "    best_m,best_n = 0, 1\n",
    "    best_ae, best_re, best_precision = float('inf'), float('inf'), -1\n",
    "    for n in range(1, 10**d):\n",
    "        m = int(numpy.ceil(n * numpy.pi))\n",
    "        if len(str(n)) == d and len(str(m)) == d:\n",
    "            ae, re, precision = errors(numpy.pi, m/n)\n",
    "            precision = -numpy.log10(re/5.)\n",
    "            if ae < best_ae:\n",
    "                best_m, best_n = m, n\n",
    "                best_ae, best_re, best_precision = ae, re, precision\n",
    "    return best_m, best_n\n",
    "    #raise NotImplementedError()"
   ]
  },
  {
   "cell_type": "code",
   "execution_count": 7,
   "metadata": {
    "deletable": false,
    "editable": false,
    "nbgrader": {
     "cell_type": "code",
     "checksum": "29119ccc9d740a4e6317ed3dc57f6657",
     "grade": true,
     "grade_id": "cell-6568ef410973a577",
     "locked": true,
     "points": 6,
     "schema_version": 3,
     "solution": false,
     "task": false
    }
   },
   "outputs": [
    {
     "name": "stdout",
     "output_type": "stream",
     "text": [
      "d=1: 7/2 = 3.5:\t e = 0.3584073464102069,\t, r = 0.11408460164326739,\t p= 1\n",
      "d=2: 44/14 = 3.142857142857143:\t e = 0.0012644892673496777,\t, r = 0.0004024994347707008,\t p= 4\n",
      "d=3: 355/113 = 3.1415929203539825:\t e = 2.667641894049666e-07,\t, r = 8.49136787674061e-08,\t p= 7\n",
      "d=4: 3195/1017 = 3.1415929203539825:\t e = 2.667641894049666e-07,\t, r = 8.49136787674061e-08,\t p= 7\n",
      "d=5: 31595/10057 = 3.1415929203539825:\t e = 2.667641894049666e-07,\t, r = 8.49136787674061e-08,\t p= 7\n",
      "\n",
      "success!\n"
     ]
    }
   ],
   "source": [
    "# Testing Cell (do not copy)\n",
    "\n",
    "# print out best rational approximations and their errors  for d =1-5\n",
    "for d in range(1,6):\n",
    "    m,n = rational_pi(d)\n",
    "    e,r,p = errors(numpy.pi,m/n)\n",
    "    print('d={}: {}/{} = {}:\\t e = {},\\t, r = {},\\t p= {}'.format(d,m,n,m/n,e,r,p))\n",
    "    \n",
    "# Run assertion Tests\n",
    "numpy.testing.assert_allclose(rational_pi(2),(44, 14))\n",
    "numpy.testing.assert_allclose(rational_pi(3),(355, 113))\n",
    "print('\\nsuccess!')\n"
   ]
  },
  {
   "cell_type": "markdown",
   "metadata": {
    "deletable": false,
    "editable": false,
    "nbgrader": {
     "cell_type": "markdown",
     "checksum": "cabe33a4165802a8de9d6c0d6b322917",
     "grade": false,
     "grade_id": "cell-23707a8e710ca676",
     "locked": true,
     "schema_version": 3,
     "solution": false,
     "task": false
    }
   },
   "source": [
    "**(d)** [6 pts] $F = n \\log(n) - n$ is Stirling's approximation to  $f = \\log(n!)$ for large values of $n$. \n",
    "Do the following\n",
    "\n",
    "* Make a plot showing the relative error and degree of decimal precision for $f$ and $F$ as a function of integer $n$\n",
    "\n",
    "* Estimate the smallest value of $n$ where Stirling's approximation is good to 4 decimal places of precision.  \n",
    "\n",
    "**Note**: If you use the `factorial` function imported from `scipy.special`, you will not be able to answer this question.  **Why?**  \n",
    "\n",
    "**Hint**: However there is another way to evaluate $\\log(n!)$ for integer $n$ that will work."
   ]
  },
  {
   "cell_type": "code",
   "execution_count": 8,
   "metadata": {
    "deletable": false,
    "nbgrader": {
     "cell_type": "code",
     "checksum": "6195fab472e4537966b7eba4a529a13b",
     "grade": true,
     "grade_id": "cell-a5639245c28a1642",
     "locked": false,
     "points": 4,
     "schema_version": 3,
     "solution": true,
     "task": false
    }
   },
   "outputs": [
    {
     "name": "stderr",
     "output_type": "stream",
     "text": [
      "C:\\Users\\ephyw\\AppData\\Local\\Temp\\ipykernel_30724\\1198505555.py:22: RuntimeWarning: divide by zero encountered in scalar divide\n",
      "  r = e/abs(f)\n"
     ]
    },
    {
     "data": {
      "image/png": "[encoded data removed]",
      "text/plain": [
       "<Figure size 1200x600 with 2 Axes>"
      ]
     },
     "metadata": {},
     "output_type": "display_data"
    }
   ],
   "source": [
    "# YOUR CODE HERE\n",
    "\n",
    "n_values = numpy.arange(1, 5000)\n",
    "\n",
    "true_values = [math.log(math.factorial(n)) for n in n_values]\n",
    "approx_values = [n * math.log(n) - n for n in n_values]\n",
    "\n",
    "\n",
    "relative_errors = [errors(true, approx)[1] for true, approx in zip(true_values, approx_values)]\n",
    "decimal_precisions = [errors(true, approx)[2] for true, approx in zip(true_values, approx_values)]\n",
    "\n",
    "plt.figure(figsize=(12, 6))\n",
    "\n",
    "plt.subplot(2, 1, 1)\n",
    "plt.plot(n_values, relative_errors, label='Relative Error')\n",
    "plt.yscale('log')\n",
    "plt.title('Relative Error of Stirling\\'s Approximation vs. True Factorial')\n",
    "plt.xlabel('n')\n",
    "plt.ylabel('Relative Error')\n",
    "plt.legend()\n",
    "\n",
    "plt.subplot(2, 1, 2)\n",
    "plt.plot(n_values, decimal_precisions, label='Decimal Precision')\n",
    "plt.title('Decimal Precision of Stirling\\'s Approximation')\n",
    "plt.xlabel('n')\n",
    "plt.ylabel('Decimal Precision')\n",
    "plt.legend()\n",
    "\n",
    "plt.tight_layout()\n",
    "plt.show()\n",
    "\n",
    "#raise NotImplementedError()"
   ]
  },
  {
   "cell_type": "code",
   "execution_count": 9,
   "metadata": {},
   "outputs": [
    {
     "data": {
      "text/plain": [
       "1452"
      ]
     },
     "execution_count": 9,
     "metadata": {},
     "output_type": "execute_result"
    }
   ],
   "source": [
    "# Smallest n where decimal precision == 4\n",
    "n_values[decimal_precisions.index(4)]"
   ]
  },
  {
   "cell_type": "markdown",
   "metadata": {
    "deletable": false,
    "nbgrader": {
     "cell_type": "markdown",
     "checksum": "c6321f16c18ce03a19fd25289b7d8ab4",
     "grade": true,
     "grade_id": "cell-dcc45d9028355b73",
     "locked": false,
     "points": 2,
     "schema_version": 3,
     "solution": true,
     "task": false
    }
   },
   "source": [
    "YOUR ANSWER HERE\n",
    "\n",
    "The smallest value of 𝑛 where Stirling's approximation is good to 4 decimal places of precision is 1452."
   ]
  },
  {
   "cell_type": "markdown",
   "metadata": {
    "deletable": false,
    "editable": false,
    "nbgrader": {
     "cell_type": "markdown",
     "checksum": "27bfc8b15912bb6e1cdfa2dfd103ced4",
     "grade": false,
     "grade_id": "cell-6968179660613369",
     "locked": true,
     "schema_version": 3,
     "solution": false
    }
   },
   "source": [
    "## Question 2\n",
    "\n",
    "[4 pts] Given the Taylor polynomial expansions of two functions around $x=0$\n",
    "\n",
    "$$\\frac{1}{1-\\Delta x} = 1 + \\Delta x + \\Delta x^2 + \\Delta x^3 + O(\\Delta x^4)$$\n",
    "\n",
    "and\n",
    "\n",
    "$$\\cosh \\Delta x = 1 + \\frac{\\Delta x^2}{2!} + \\frac{\\Delta x^4}{4!} + O(\\Delta x^6)$$\n",
    "\n",
    "calculate their sum and product as well as the order of approximation for the truncation error (i.e. determine the exponent that belongs in the $O$).\n"
   ]
  },
  {
   "cell_type": "markdown",
   "metadata": {
    "deletable": false,
    "nbgrader": {
     "cell_type": "markdown",
     "checksum": "77d458abae3cfa5157eca11bd346e444",
     "grade": true,
     "grade_id": "cell-8500724062567566",
     "locked": false,
     "points": 4,
     "schema_version": 3,
     "solution": true
    }
   },
   "source": [
    "YOUR ANSWER HERE\n",
    "\n",
    "Sum = $$\\frac{1}{1-\\Delta x} + cosh(\\Delta x) = (1 + \\Delta x + \\Delta x^2 + \\Delta x^3 + O(\\Delta x^4)) + (1 + \\frac{\\Delta x^2}{2!} + \\frac{\\Delta x^4}{4!} + O(\\Delta x^6))$$\n",
    "\n",
    "Sum = $$2 + \\Delta x + (\\frac{3}{2}x^2 + \\Delta x^3 + \\frac{\\Delta x^4}{24} + O(\\Delta x^4) + O(\\Delta x^6)$$\n",
    "\n",
    "Product = $$\\frac{1}{1-\\Delta x} \\times cosh(\\Delta x) = (1 + \\Delta x + \\Delta x^2 + \\Delta x^3 + O(\\Delta x^4)) \\times (1 + \\frac{\\Delta x^2}{2!} + \\frac{\\Delta x^4}{4!} + O(\\Delta x^6))$$\n",
    "\n",
    "Product = $$1 + \\Delta x + \\frac{\\Delta x^2}{2!} + \\Delta x^3 + \\frac{\\Delta x^4}{4!} O(\\Delta x^4) + O(\\Delta x^6)$$\n",
    "\n",
    "Order of approximation for the truncation error is $$O(\\Delta x^6)$$ for the sum and also $$O(\\Delta x^6)$$ for the product, when $\\Delta x$ is not less than 1. If $\\Delta x$ is greater than or equal to 1, then the order is $$O(\\Delta x^4)$$ for both product and sum since $x^4$ would be greater than $x^6$ for small (<1) $\\Delta x$ values."
   ]
  },
  {
   "cell_type": "markdown",
   "metadata": {
    "deletable": false,
    "editable": false,
    "nbgrader": {
     "cell_type": "markdown",
     "checksum": "237fcd7151c710b1c2fe86744794671b",
     "grade": false,
     "grade_id": "cell-5632471080286207",
     "locked": true,
     "schema_version": 3,
     "solution": false
    }
   },
   "source": [
    "## Question 3:  The great Exp challenge...\n",
    "\n",
    "Here you will attempt to write a function to calculate $e^x$ using its Taylor polynomial approximation expanded around $x_0=0$\n",
    "\n",
    "$$e^x \\approx T_n(x) = 1 + x + \\frac{x^2}{2!} + \\frac{x^3}{3!} + \\cdots + \\frac{x^n}{n!}$$\n",
    "\n",
    "such that the relative error of $f=e^x$ and $F=T_n(x)$ is of order Machine epsilon ($\\epsilon_{machine}$) for  $x\\in[-50,50]$.  This problem is actually a bit of a stinker and takes a bit of thought (particularly for $x<0$).  But I'll work you through it."
   ]
  },
  {
   "cell_type": "markdown",
   "metadata": {
    "deletable": false,
    "editable": false,
    "nbgrader": {
     "cell_type": "markdown",
     "checksum": "d16eac32cec2913a95095d153a7994b7",
     "grade": false,
     "grade_id": "cell-8186992197557199",
     "locked": true,
     "schema_version": 3,
     "solution": false
    }
   },
   "source": [
    "**(a)** [4 pts] Assume $x> 0$ and show that the upper bound on the *relative error*  at term $n$ \n",
    "\n",
    "$$r_n = \\frac{|e^x - T_n(x)|}{|e^x|}$$\n",
    "\n",
    "is given by\n",
    "\n",
    "$$r_n \\leq \\left | \\frac{x^{n+1}}{(n + 1)!} \\right |$$"
   ]
  },
  {
   "cell_type": "markdown",
   "metadata": {
    "deletable": false,
    "nbgrader": {
     "cell_type": "markdown",
     "checksum": "c066945aa96e6e08fcb676cf3b3e08f3",
     "grade": true,
     "grade_id": "cell-2747685663052674",
     "locked": false,
     "points": 4,
     "schema_version": 3,
     "solution": true
    }
   },
   "source": [
    "YOUR ANSWER HERE\n",
    "\n",
    "I can find the upper bound on the relative error at term n ($r_n$) by evaluating $r_n$'s maximum. To do so, I try to analyze the numerator first.\n",
    "\n",
    "numerator of $r_n = |e^x-T_n(x)|$\n",
    "\n",
    "$|e^x-T_n(x)| = |\\sum_{k=n+1}^\\infty \\frac{x^k}{k!}|$ by using Taylor series expansion; difference between $e^x$ and approximation $T_n(x)$.\n",
    "\n",
    "$|e^x-T_n(x)| = \\sum_{k=n+1}^\\infty \\frac{x^k}{k!}$\n",
    "\n",
    "since all right hand side terms (terms in the series) > 0.\n",
    "\n",
    "To find the upper bound, I consider\n",
    "\n",
    "$|e^x-T_n(x)| \\le \\sum_{k=n+1}^\\infty \\frac{x^k}{k!}$\n",
    "\n",
    "The right hand side is maximized when k=n+1, which gives\n",
    "\n",
    "$\\frac{|x^{n+1}|}{(n+1)!} = |\\frac{x^{n+1}}{(n+1)!}|$\n",
    "\n",
    "Therefore, I can say that the upper bound on the relative error at term n is $|\\frac{x^{n+1}}{(n+1)!}|$ for the numerator of $r_n$.\n",
    "\n",
    "In terms of analyzing the denominator of $r_n$, which is $|e^x|$, $e^x$ is monotonically increasing for x > 0 and $e^x > 1$.\n",
    "$r_n \\le |\\frac{x^{n+1}}{(n+1)!*1}|$\n",
    "\n",
    "Therefore $r_n \\le |\\frac{x^{n+1}}{(n+1)!}|$. QED"
   ]
  },
  {
   "cell_type": "markdown",
   "metadata": {
    "deletable": false,
    "editable": false,
    "nbgrader": {
     "cell_type": "markdown",
     "checksum": "9a252bb988e5ae52a24a2e87dfe820b2",
     "grade": false,
     "grade_id": "cell-4678254376542691",
     "locked": true,
     "schema_version": 3,
     "solution": false
    }
   },
   "source": [
    "**(b)** [4 pts] Analytically show that for **large** $x\\gg1$ and $n$, $r_n \\leq \\epsilon_{\\text{machine}}$ implies that we need *approximately* $n > e \\cdot x$ terms in the series (where $e = \\text{exp}(1)$).\n",
    "\n",
    "*Hint* Use Stirling's approximation $log (n!) \\approx n~log~n - n$ (and then this problem is still a bit tricky)"
   ]
  },
  {
   "cell_type": "markdown",
   "metadata": {
    "deletable": false,
    "nbgrader": {
     "cell_type": "markdown",
     "checksum": "8152aede9f1e1f429a231ee2b82df69c",
     "grade": true,
     "grade_id": "cell-4305745011657702",
     "locked": false,
     "points": 4,
     "schema_version": 3,
     "solution": true
    }
   },
   "source": [
    "YOUR ANSWER HERE\n",
    "\n",
    "$r_n = \\frac{x^{n+1}}{(n+1)!e^x}$\n",
    "\n",
    "Use Stirling's approximation\n",
    "\n",
    "$log(n!) \\approx n~log~n - n$\n",
    "\n",
    "I consulted reference material on Stirling's approximation: https://en.wikipedia.org/wiki/Stirling%27s_approximation\n",
    "\n",
    "$n! \\approx e^{n \\log(n) - n}$\n",
    "\n",
    "$n! \\approx e^{n \\log(n)} \\cdot e^{-n}$\n",
    "\n",
    "$n! \\approx e^{n \\log(n)} \\cdot \\frac{1}{e^n}$\n",
    "\n",
    "$n! \\approx e^{n \\log(n)} \\cdot \\left(\\frac{n}{n}\\right)^n \\cdot \\frac{1}{e^n}$\n",
    "\n",
    "$n! \\approx \\left( e^{\\log(n)} \\right)^n \\cdot \\left(\\frac{n}{e}\\right)^n \\cdot \\frac{1}{e^n}$\n",
    "\n",
    "$n! \\approx n^n \\cdot \\left(\\frac{n}{e}\\right)^n \\cdot \\frac{1}{e^n}$\n",
    "\n",
    "$n! \\approx \\sqrt{2\\pi n} \\left(\\frac{n}{e}\\right)^n$\n",
    "\n",
    "<!-- $log((n+1)!) \\approx (n+1)log(n+1) - (n+1)$ -->\n",
    "\n",
    "Using this approximation, for $r_n \\le \\epsilon_{machine}$ we have\n",
    "\n",
    "$r_n \\le \\epsilon_{machine}$\n",
    "\n",
    "$\\frac{x^{n+1}}{(n+1)!} \\le \\epsilon_{machine}$\n",
    "\n",
    "$\\frac{|x^{n+1}|}{\\sqrt{2\\pi(n+1)}(\\frac{n+1}{e})^{n+1}} \\le \\epsilon_{machine}$\n",
    "\n",
    "\n",
    "$|x^{n+1}| \\le \\epsilon_{machine}\\sqrt{2\\pi(n+1)}(\\frac{n+1}{e})^{n+1}$\n",
    "\n",
    "\n",
    "I approximate $(\\frac{n+1}{e})^{n+1} \\approx e*n^{n+1}$ for large x and n, since $|x^{n+1}|$ is large when x is large >> 1. \n",
    "\n",
    "$e*x^{n+1} \\le \\epsilon_{machine}\\sqrt{2\\pi(n+1)}*\\epsilon*n^{n+1}$\n",
    "\n",
    "This simplifies to\n",
    "\n",
    "n > e*x\n",
    "\n",
    "Therefore, for **large** $x\\gg1$ and $n$, $r_n \\leq \\epsilon_{\\text{machine}}$ implies that we need *approximately* $n > e \\cdot x$ terms in the series (where $e = \\text{exp}(1)$)."
   ]
  },
  {
   "cell_type": "markdown",
   "metadata": {
    "deletable": false,
    "editable": false,
    "nbgrader": {
     "cell_type": "markdown",
     "checksum": "a9cef1843dc0ae1deb7e6dbe5f77c33c",
     "grade": false,
     "grade_id": "cell-8048500717179941",
     "locked": true,
     "schema_version": 3,
     "solution": false
    }
   },
   "source": [
    "**(c)** [6 pts] Use this result to write a Python function that accurately approximates $e^x$ using $T_n(x)$ for scalar $x$ and returns both the estimate and the number of terms in the series.  Note that the testing tolerance will be $8 \\cdot \\epsilon_{\\text{machine}}$ over the range $x\\in[-50,50]$\n",
    "\n",
    "Make sure to document your code including expected inputs, outputs, and assumptions being made.\n",
    "\n",
    "Some Hints:\n",
    "* To make your life easier,  we will assume $x$ and $T_n(x)$ are just of type float (not arrays)\n",
    "* Think about how we evaluated polynomials efficiently in class\n",
    "* $T_n(x)$ for $x<0$ is a highly unstable alternating series with severe cancellation issues. However, there is a simple fix that will return accurate solutions independent of the sign of $x$"
   ]
  },
  {
   "cell_type": "code",
   "execution_count": null,
   "metadata": {},
   "outputs": [],
   "source": [
    "#NOTE : I got stuck but I tried to use\n",
    "# Horner's method for reducing computational inefficiency (lowering BigO)\n",
    "# of the coefficient/factorial computation of terms,\n",
    "# and also using the reciprocol of the term for negative values."
   ]
  },
  {
   "cell_type": "code",
   "execution_count": 16,
   "metadata": {
    "deletable": false,
    "nbgrader": {
     "cell_type": "code",
     "checksum": "80286c759520479af4ce906ac70f62e5",
     "grade": false,
     "grade_id": "cell-5914967225034965",
     "locked": false,
     "schema_version": 3,
     "solution": true,
     "task": false
    }
   },
   "outputs": [],
   "source": [
    "def Tn_exp(x):\n",
    "    \"\"\"\n",
    "    Parameters:\n",
    "    -----------\n",
    "        x: float\n",
    "            scalar value to approximate exp(x)\n",
    "    Returns\n",
    "    -------\n",
    "        Tn: float\n",
    "            Approximation of x using Taylor series expansion\n",
    "        MAX_N: int\n",
    "            Number of terms in Taylor series approximation,\n",
    "            starting at rough estimate of int(numpy.exp(1) * abs(x))\n",
    "        \n",
    "    \"\"\"\n",
    "\n",
    "    assert(isinstance(x,float))\n",
    "    tol = 8 * numpy.finfo(float).eps\n",
    "    Tn = 0.0\n",
    "    factorial = 1\n",
    "    MAX_N = int(numpy.exp(1) * abs(x))\n",
    "    n = 0\n",
    "    # Basic solution: Overflow due to not using Horner's method,\n",
    "    # as well as not handling X signs\n",
    "    term = math.pow(x, n) / factorial\n",
    "    while errors(numpy.exp(x), Tn)[1] > tol:\n",
    "        term = math.pow(x, n) / factorial\n",
    "        Tn += term\n",
    "        n += 1\n",
    "        factorial *= n\n",
    "        #print(\"Term:\", term)\n",
    "        #print(Tn)\n",
    "    MAX_N = n-1\n",
    "    Tn = Tn-term\n",
    "    print('Final: ', errors(numpy.exp(x), Tn)[1])\n",
    "    return Tn, MAX_N"
   ]
  },
  {
   "cell_type": "code",
   "execution_count": null,
   "metadata": {},
   "outputs": [],
   "source": [
    "# # Scalar version\n",
    "# def eval_poly(p, x):\n",
    "#     \"\"\"Evaluates polynomial given coefficients p at x\n",
    "    \n",
    "#     Function to evaluate a polynomial in order N operations.  The polynomial is defined as\n",
    "    \n",
    "#     P(x) = p[0] x**n + p[1] x**(n-1) + ... + p[n-1] x + p[n]\n",
    "    \n",
    "#     The value x should be a float.\n",
    "#     \"\"\"\n",
    "    \n",
    "#     y = p[0]\n",
    "#     for coefficient in p[1:]:\n",
    "#         y = y * x + coefficient\n",
    "    \n",
    "#     return y"
   ]
  },
  {
   "cell_type": "code",
   "execution_count": 191,
   "metadata": {
    "deletable": false,
    "editable": false,
    "nbgrader": {
     "cell_type": "code",
     "checksum": "ab0f32ce185cc2c7955fb0d04d65f027",
     "grade": true,
     "grade_id": "cell-9688375319882602",
     "locked": true,
     "points": 6,
     "schema_version": 3,
     "solution": false
    }
   },
   "outputs": [
    {
     "ename": "OverflowError",
     "evalue": "int too large to convert to float",
     "output_type": "error",
     "traceback": [
      "\u001b[1;31m---------------------------------------------------------------------------\u001b[0m",
      "\u001b[1;31mOverflowError\u001b[0m                             Traceback (most recent call last)",
      "Cell \u001b[1;32mIn[191], line 10\u001b[0m\n\u001b[0;32m      8\u001b[0m N \u001b[38;5;241m=\u001b[39m numpy\u001b[38;5;241m.\u001b[39mzeros(x\u001b[38;5;241m.\u001b[39mshape)\n\u001b[0;32m      9\u001b[0m \u001b[38;5;28;01mfor\u001b[39;00m i,xi \u001b[38;5;129;01min\u001b[39;00m \u001b[38;5;28menumerate\u001b[39m(x):\n\u001b[1;32m---> 10\u001b[0m     answer[i], N[i] \u001b[38;5;241m=\u001b[39m Tn_exp(xi)\n\u001b[0;32m     11\u001b[0m r \u001b[38;5;241m=\u001b[39m numpy\u001b[38;5;241m.\u001b[39mabs(answer \u001b[38;5;241m-\u001b[39m numpy\u001b[38;5;241m.\u001b[39mexp(x)) \u001b[38;5;241m/\u001b[39m numpy\u001b[38;5;241m.\u001b[39mabs(numpy\u001b[38;5;241m.\u001b[39mexp(x))\n\u001b[0;32m     12\u001b[0m \u001b[38;5;28mprint\u001b[39m(\u001b[38;5;124m'\u001b[39m\u001b[38;5;124mmaxmimum relative error = \u001b[39m\u001b[38;5;132;01m{}\u001b[39;00m\u001b[38;5;124m eps_machine\u001b[39m\u001b[38;5;124m'\u001b[39m\u001b[38;5;241m.\u001b[39mformat(r\u001b[38;5;241m.\u001b[39mmax()\u001b[38;5;241m/\u001b[39meps))\n",
      "Cell \u001b[1;32mIn[184], line 21\u001b[0m, in \u001b[0;36mTn_exp\u001b[1;34m(x)\u001b[0m\n\u001b[0;32m     19\u001b[0m x \u001b[38;5;241m=\u001b[39m \u001b[38;5;241m-\u001b[39mx\n\u001b[0;32m     20\u001b[0m \u001b[38;5;28;01mwhile\u001b[39;00m \u001b[38;5;28;01mTrue\u001b[39;00m:\n\u001b[1;32m---> 21\u001b[0m     term \u001b[38;5;241m=\u001b[39m x \u001b[38;5;241m/\u001b[39m factorial\n\u001b[0;32m     22\u001b[0m     Tn \u001b[38;5;241m+\u001b[39m\u001b[38;5;241m=\u001b[39m term\n\u001b[0;32m     23\u001b[0m     n \u001b[38;5;241m+\u001b[39m\u001b[38;5;241m=\u001b[39m \u001b[38;5;241m1\u001b[39m\n",
      "\u001b[1;31mOverflowError\u001b[0m: int too large to convert to float"
     ]
    }
   ],
   "source": [
    "# Testing Cell (do not copy)\n",
    "\n",
    "x = numpy.linspace(-50, 50, 101)\n",
    "eps = numpy.finfo(float).eps\n",
    "tolerance = 8 * eps\n",
    "\n",
    "answer = numpy.zeros(x.shape)\n",
    "N = numpy.zeros(x.shape)\n",
    "for i,xi in enumerate(x):\n",
    "    answer[i], N[i] = Tn_exp(xi)\n",
    "r = numpy.abs(answer - numpy.exp(x)) / numpy.abs(numpy.exp(x))\n",
    "print('maxmimum relative error = {} eps_machine'.format(r.max()/eps))\n",
    "assert(numpy.all(r  < tolerance))\n",
    "print(\"Success!\")"
   ]
  },
  {
   "cell_type": "markdown",
   "metadata": {
    "deletable": false,
    "editable": false,
    "nbgrader": {
     "cell_type": "markdown",
     "checksum": "2b1d4a353e51fbba1658f5a6968d1b42",
     "grade": false,
     "grade_id": "cell-c154452f653c5adc",
     "locked": true,
     "schema_version": 3,
     "solution": false,
     "task": false
    }
   },
   "source": [
    "**(d)** [4 pts] In ieee double precision,  the largest value of $x$ that has $e^x<$ `numpy.finfo(float).max` is about 709 (i.e. `numpy.log(numpy.finfo(float).max))`. \n",
    "\n",
    "* What is the relative error in units of machine epsilon for your routine and `f=numpy.exp(709)`\n",
    "* What is the relative error in units of machine epsilon for `F=numpy.exp(1)**709` and `f=numpy.exp(709)`\n",
    "\n",
    "Explain your results"
   ]
  },
  {
   "cell_type": "code",
   "execution_count": 186,
   "metadata": {},
   "outputs": [],
   "source": [
    "# Tn_exp(709.0)"
   ]
  },
  {
   "cell_type": "code",
   "execution_count": 188,
   "metadata": {},
   "outputs": [
    {
     "data": {
      "text/plain": [
       "170.0702257577037"
      ]
     },
     "execution_count": 188,
     "metadata": {},
     "output_type": "execute_result"
    }
   ],
   "source": [
    "errors(numpy.exp(709), numpy.exp(1)**709)[1]/numpy.finfo(float).eps"
   ]
  },
  {
   "cell_type": "markdown",
   "metadata": {
    "deletable": false,
    "nbgrader": {
     "cell_type": "markdown",
     "checksum": "a5a47ab9f08e7fe4764609703387ef9d",
     "grade": true,
     "grade_id": "cell-26e754d164cf2a3a",
     "locked": false,
     "points": 4,
     "schema_version": 3,
     "solution": true,
     "task": false
    }
   },
   "source": [
    "YOUR ANSWER HERE\n",
    "\n",
    "The relative error in units of machine epsilon for `F=numpy.exp(1)**709` and `f=numpy.exp(709)` is 170 units (rounded to whole integer floor) as computed above. I took the relative error between the appropriate f and F and divided by machine epsilon."
   ]
  },
  {
   "cell_type": "markdown",
   "metadata": {
    "deletable": false,
    "editable": false,
    "nbgrader": {
     "cell_type": "markdown",
     "checksum": "7acaa725abfd22229bddd35f652e4b57",
     "grade": false,
     "grade_id": "cell-aaa3ac7c64bd5868",
     "locked": true,
     "schema_version": 3,
     "solution": false,
     "task": false
    }
   },
   "source": [
    "**(e)** **Extra Credit**\n",
    "\n",
    "[4 pts] Can you modify your routine for `Tn_exp(x)`) to approximate $e^x$ on the range $x\\in[-709, 709]$ to within 16 $\\epsilon_{machine}$?\n"
   ]
  },
  {
   "cell_type": "code",
   "execution_count": null,
   "metadata": {
    "deletable": false,
    "nbgrader": {
     "cell_type": "code",
     "checksum": "9c184e65af5b8e5f46c673245638f9ef",
     "grade": false,
     "grade_id": "cell-28a21d2a7d0bda99",
     "locked": false,
     "schema_version": 3,
     "solution": true,
     "task": false
    }
   },
   "outputs": [],
   "source": [
    "# YOUR CODE HERE\n",
    "raise NotImplementedError()"
   ]
  },
  {
   "cell_type": "code",
   "execution_count": null,
   "metadata": {
    "deletable": false,
    "editable": false,
    "nbgrader": {
     "cell_type": "code",
     "checksum": "47c964bd17be30e90d2a8b03d580466c",
     "grade": true,
     "grade_id": "cell-96883753198883843",
     "locked": true,
     "points": 0,
     "schema_version": 3,
     "solution": false
    }
   },
   "outputs": [],
   "source": [
    "x = numpy.linspace(-709, 709, 101)\n",
    "tolerance = 16 * eps\n",
    "\n",
    "answer = numpy.zeros(x.shape)\n",
    "N = numpy.zeros(x.shape)\n",
    "for i,xi in enumerate(x):\n",
    "    answer[i], N[i] = Tn_exp(xi, tolerance=tolerance)\n",
    "r = numpy.abs(answer - numpy.exp(x)) / numpy.abs(numpy.exp(x))\n",
    "print('maxmimum relative error = {} eps_machine'.format(r.max()/eps))\n",
    "assert(numpy.all(r  < tolerance))\n",
    "print(\"Success!\")"
   ]
  },
  {
   "cell_type": "markdown",
   "metadata": {
    "deletable": false,
    "editable": false,
    "nbgrader": {
     "cell_type": "markdown",
     "checksum": "0ea70a0549b8738a4ff278bbe58f20df",
     "grade": false,
     "grade_id": "cell-6605000347660435",
     "locked": true,
     "schema_version": 3,
     "solution": false
    }
   },
   "source": [
    "## Question 4\n",
    "\n",
    "Consider a computing system that uses deoxyribonucleic acid (DNA) to store information.  Given that DNA is formed from the 4 nucleobases adenine, cytosine, guanine, and thymine (uracil is only found in RNA) let us assume that our storage of numbers will be base 4.  Answer the following questions based on this assuming that we have $p=3$ for the mantissa and the exponent $E \\in [-3, 3]$ (and we'll pretend DNA has a sign bit...chirality?)."
   ]
  },
  {
   "cell_type": "markdown",
   "metadata": {
    "deletable": false,
    "editable": false,
    "nbgrader": {
     "cell_type": "markdown",
     "checksum": "c13ca513b18f26ed2af616dd50206047",
     "grade": false,
     "grade_id": "cell-9339658002746268",
     "locked": true,
     "schema_version": 3,
     "solution": false
    }
   },
   "source": [
    "**(a)** [4 pts] How many numbers can we represent with this floating point system (assume it's normalized)?  What are the underflow and overflow limits? What is machine Epsilon?"
   ]
  },
  {
   "cell_type": "markdown",
   "metadata": {
    "deletable": false,
    "nbgrader": {
     "cell_type": "markdown",
     "checksum": "b0255974fb370e1c331638d41f074ddf",
     "grade": true,
     "grade_id": "cell-623b625975f5da41",
     "locked": false,
     "points": 4,
     "schema_version": 3,
     "solution": true
    }
   },
   "source": [
    "YOUR ANSWER HERE\n",
    "\n",
    "Mantissa precision: 3 digits in base 4, which suggests the existence of \\(4^3\\) possibilities.\n",
    "The exponent range is -3 to 3, suggesting 6 x possibilities + 1 for 0.\n",
    "The sign bit suggests 2 x possibilities.\n",
    "Total possibilities: $(4^3 \\times 6 \\times 2 + 1 = 769)$\n",
    "    \n",
    "- **Underflow limit**: $2 \\times 0.000 4^{-3}$ in base 4 $= 0.00125$ in base 10.\n",
    "\n",
    "- **Overflow limit**: $2 \\times 3.333 \\times 4^3$ in base 4 $= 510.336$ in base 10.\n",
    "\n",
    "- **Machine Epsilon**: $0.100 \\times 4^{-3}$ in base 4 $= 0.015625$ in base 10.\n"
   ]
  },
  {
   "cell_type": "markdown",
   "metadata": {
    "deletable": false,
    "editable": false,
    "nbgrader": {
     "cell_type": "markdown",
     "checksum": "29c7fc5ca0808f62a6b35897f3fbbe87",
     "grade": false,
     "grade_id": "cell-9339658dsfsdf46268",
     "locked": true,
     "schema_version": 3,
     "solution": false
    }
   },
   "source": [
    "**(b)** [4pts] Graphically show how the numbers on the decimal real line are distributed."
   ]
  },
  {
   "cell_type": "code",
   "execution_count": 190,
   "metadata": {
    "deletable": false,
    "nbgrader": {
     "cell_type": "code",
     "checksum": "b95cccb5e3723bc4ebd7a1a10500f39a",
     "grade": true,
     "grade_id": "cell-4c6d3ae47566d1f1",
     "locked": false,
     "points": 4,
     "schema_version": 3,
     "solution": true
    }
   },
   "outputs": [
    {
     "data": {
      "image/png": "[encoded data removed]",
      "text/plain": [
       "<Figure size 1200x600 with 1 Axes>"
      ]
     },
     "metadata": {},
     "output_type": "display_data"
    }
   ],
   "source": [
    "# YOUR CODE HERE\n",
    "#raise NotImplementedError()\n",
    "import matplotlib.pyplot as plt\n",
    "\n",
    "# Define mantissa, exponent values\n",
    "d_values = [0, 1, 2, 3]  # Base-4 digits\n",
    "E_values = range(-3, 4)   # Exponents from -3 to 3\n",
    "\n",
    "fig = plt.figure(figsize=(12.0, 6.0))\n",
    "axes = fig.add_subplot(1, 1, 1)\n",
    "\n",
    "for E in E_values:\n",
    "    for d1 in d_values:\n",
    "        for d2 in d_values:\n",
    "            for d3 in d_values:\n",
    "                axes.plot((d1 + d2 * 0.25 + d3 * 0.0625) * 4 ** E, 0.0, 'r|', markersize=10)\n",
    "                axes.plot(-(d1 + d2 * 0.25 + d3 * 0.0625) * 4 ** E, 0.0, 'r|', markersize=10)\n",
    "\n",
    "axes.plot(0.0, 0.0, '|', color='blue', markersize=20)\n",
    "axes.plot([-100.0, 100.0], [0.0, 0.0], 'k-')\n",
    "\n",
    "axes.set_title(\"Distribution of Values for DNA Base 4 System\")\n",
    "axes.set_yticks([])\n",
    "axes.set_xlabel(\"x\")\n",
    "axes.set_ylabel(\"\")\n",
    "axes.set_xlim([-100, 100])\n",
    "\n",
    "plt.show()\n"
   ]
  },
  {
   "cell_type": "markdown",
   "metadata": {
    "deletable": false,
    "editable": false,
    "nbgrader": {
     "cell_type": "markdown",
     "checksum": "fab0fc5f3065c300023b60719c30cb3b",
     "grade": false,
     "grade_id": "cell-93396552502746268",
     "locked": true,
     "schema_version": 3,
     "solution": false
    }
   },
   "source": [
    "**(c)** [4 pts] How many more numbers can we store in $N$ base-pairs (base 4) versus $N$ bits (base 2) where the mantissa and exponent are the same relative length (e.g.  p=3, and $E\\in[-3,3]$ for both problems)?"
   ]
  },
  {
   "cell_type": "markdown",
   "metadata": {
    "deletable": false,
    "nbgrader": {
     "cell_type": "markdown",
     "checksum": "16825fa4b75b7fc34d854b1653fe64b8",
     "grade": true,
     "grade_id": "cell-6de5d8dbf91c5ff7",
     "locked": false,
     "points": 4,
     "schema_version": 3,
     "solution": true
    }
   },
   "source": [
    "YOUR ANSWER HERE\n",
    "\n",
    "Base 2:\n",
    "$2^3 \\times 6 \\times 2 + 1 = 97$ (assuming sign bit (x2) and presence of 0 (+1))\n",
    "\n",
    "Compared to 769 calculated in part A), Base 4 can store 769 - 97 = 672 more numbers than Base 2 given the provided circumstances."
   ]
  },
  {
   "cell_type": "code",
   "execution_count": null,
   "metadata": {},
   "outputs": [],
   "source": []
  }
 ],
 "metadata": {
  "kernelspec": {
   "display_name": "Python 3 (ipykernel)",
   "language": "python",
   "name": "python3"
  },
  "language_info": {
   "codemirror_mode": {
    "name": "ipython",
    "version": 3
   },
   "file_extension": ".py",
   "mimetype": "text/x-python",
   "name": "python",
   "nbconvert_exporter": "python",
   "pygments_lexer": "ipython3",
   "version": "3.11.4"
  },
  "latex_envs": {
   "bibliofile": "biblio.bib",
   "cite_by": "apalike",
   "current_citInitial": 1,
   "eqLabelWithNumbers": true,
   "eqNumInitial": 0
  }
 },
 "nbformat": 4,
 "nbformat_minor": 4
}
